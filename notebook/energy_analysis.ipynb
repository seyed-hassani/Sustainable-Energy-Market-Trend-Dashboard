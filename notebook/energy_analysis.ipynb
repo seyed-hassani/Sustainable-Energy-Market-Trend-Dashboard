{
 "cells": [
  {
   "cell_type": "markdown",
   "metadata": {},
   "source": [
    "# 📊 Energy Usage Optimization Analysis\n",
    "\n",
    "This notebook explores energy consumption data and visualizes patterns that can inform decisions for cost savings and efficiency improvements."
   ]
  },
  {
   "cell_type": "code",
   "execution_count": null,
   "metadata": {},
   "outputs": [],
   "source": [
    "import pandas as pd\n",
    "import matplotlib.pyplot as plt\n",
    "import seaborn as sns\n",
    "\n",
    "# Load the dataset\n",
    "data = pd.read_csv('../data/sample_energy_data.csv')\n",
    "data['timestamp'] = pd.to_datetime(data['timestamp'])\n",
    "data.head()"
   ]
  },
  {
   "cell_type": "markdown",
   "metadata": {},
   "source": [
    "## 📅 Daily Energy Consumption"
   ]
  },
  {
   "cell_type": "code",
   "execution_count": null,
   "metadata": {},
   "outputs": [],
   "source": [
    "# Total energy consumption per day\n",
    "daily_usage = data.groupby(data['timestamp'].dt.date)['energy_kWh'].sum().reset_index()\n",
    "daily_usage.columns = ['date', 'total_kWh']\n",
    "\n",
    "# Plot\n",
    "plt.figure(figsize=(10, 5))\n",
    "sns.barplot(x='date', y='total_kWh', data=daily_usage, palette='viridis')\n",
    "plt.xticks(rotation=45)\n",
    "plt.title('Total Daily Energy Consumption (kWh)')\n",
    "plt.xlabel('Date')\n",
    "plt.ylabel('Energy (kWh)')\n",
    "plt.tight_layout()\n",
    "plt.show()"
   ]
  },
  {
   "cell_type": "markdown",
   "metadata": {},
   "source": [
    "## ⏰ Average Hourly Usage"
   ]
  },
  {
   "cell_type": "code",
   "execution_count": null,
   "metadata": {},
   "outputs": [],
   "source": [
    "# Average usage per hour\n",
    "hourly_avg = data.groupby('hour')['energy_kWh'].mean().reset_index()\n",
    "\n",
    "# Plot\n",
    "plt.figure(figsize=(10, 5))\n",
    "sns.lineplot(x='hour', y='energy_kWh', data=hourly_avg, marker='o')\n",
    "plt.title('Average Hourly Energy Consumption')\n",
    "plt.xlabel('Hour of Day')\n",
    "plt.ylabel('Average Energy (kWh)')\n",
    "plt.grid(True)\n",
    "plt.tight_layout()\n",
    "plt.show()"
   ]
  }
 ],
 "metadata": {
  "kernelspec": {
   "display_name": "Python 3",
   "language": "python",
   "name": "python3"
  },
  "language_info": {
   "name": "python",
   "version": "3.8"
  }
 },
 "nbformat": 4,
 "nbformat_minor": 2
}
