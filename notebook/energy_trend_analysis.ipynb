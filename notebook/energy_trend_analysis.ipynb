{
 "cells": [
  {
   "cell_type": "markdown",
   "id": "869171c3",
   "metadata": {},
   "source": [
    "# 📈 Sustainable Energy Trend Analysis\n",
    "This notebook analyzes renewable energy trends across Canadian provinces using synthetic data."
   ]
  },
  {
   "cell_type": "code",
   "execution_count": null,
   "id": "4c28fd3b",
   "metadata": {},
   "outputs": [],
   "source": [
    "import pandas as pd\n",
    "import matplotlib.pyplot as plt\n",
    "import seaborn as sns\n",
    "\n",
    "# Load data\n",
    "data = pd.read_csv('../data/renewable_energy_by_province.csv')\n",
    "data.head()"
   ]
  },
  {
   "cell_type": "markdown",
   "id": "38f94783",
   "metadata": {},
   "source": [
    "## 🔍 Installed Capacity Over Time"
   ]
  },
  {
   "cell_type": "code",
   "execution_count": null,
   "id": "819d8720",
   "metadata": {},
   "outputs": [],
   "source": [
    "# Total installed capacity by year and energy type\n",
    "plt.figure(figsize=(12, 6))\n",
    "sns.lineplot(data=data, x='Year', y='Installed_Capacity_MW', hue='Energy_Type', estimator='sum', ci=None)\n",
    "plt.title('Total Installed Renewable Energy Capacity in Canada (2018–2023)')\n",
    "plt.ylabel('Capacity (MW)')\n",
    "plt.grid(True)\n",
    "plt.show()"
   ]
  },
  {
   "cell_type": "markdown",
   "id": "2e6bbad6",
   "metadata": {},
   "source": [
    "## 🌍 Provincial Comparison (Latest Year)"
   ]
  },
  {
   "cell_type": "code",
   "execution_count": null,
   "id": "de7cd399",
   "metadata": {},
   "outputs": [],
   "source": [
    "latest_year = data['Year'].max()\n",
    "latest_data = data[data['Year'] == latest_year]\n",
    "plt.figure(figsize=(12, 6))\n",
    "sns.barplot(data=latest_data, x='Province', y='Installed_Capacity_MW', hue='Energy_Type')\n",
    "plt.title(f'Renewable Energy Capacity by Province in {latest_year}')\n",
    "plt.ylabel('Capacity (MW)')\n",
    "plt.xticks(rotation=45)\n",
    "plt.show()"
   ]
  },
  {
   "cell_type": "markdown",
   "id": "eb59e3ab",
   "metadata": {},
   "source": [
    "## 📊 Growth Rate Analysis"
   ]
  },
  {
   "cell_type": "code",
   "execution_count": null,
   "id": "fdc67b83",
   "metadata": {},
   "outputs": [],
   "source": [
    "# Calculate CAGR per province/energy type\n",
    "growth_data = data.groupby(['Province', 'Energy_Type']).agg(first_year=('Year', 'min'), last_year=('Year', 'max'),\n",
    "                                                            start_capacity=('Installed_Capacity_MW', 'first'),\n",
    "                                                            end_capacity=('Installed_Capacity_MW', 'last')).reset_index()\n",
    "\n",
    "growth_data['CAGR'] = ((growth_data['end_capacity'] / growth_data['start_capacity']) ** \n",
    "                       (1 / (growth_data['last_year'] - growth_data['first_year'])) - 1) * 100\n",
    "\n",
    "growth_data = growth_data.sort_values(by='CAGR', ascending=False)\n",
    "growth_data.head()"
   ]
  }
 ],
 "metadata": {},
 "nbformat": 4,
 "nbformat_minor": 5
}
